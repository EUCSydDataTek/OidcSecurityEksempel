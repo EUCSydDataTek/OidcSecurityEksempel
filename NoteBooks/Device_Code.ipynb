{
 "cells": [
  {
   "attachments": {},
   "cell_type": "markdown",
   "metadata": {
    "dotnet_interactive": {
     "language": "csharp"
    },
    "polyglot_notebook": {
     "kernelName": "csharp"
    }
   },
   "source": [
    "# Setup\n",
    "\n",
    "- Kør jsk.Isp Projektet.\n",
    "    - _Du kan også bruge din egen Identity server_\n",
    "- Kør Koden Nedenunder."
   ]
  },
  {
   "cell_type": "code",
   "execution_count": 7,
   "metadata": {
    "dotnet_interactive": {
     "language": "csharp"
    },
    "polyglot_notebook": {
     "kernelName": "csharp"
    },
    "vscode": {
     "languageId": "polyglot-notebook"
    }
   },
   "outputs": [
    {
     "data": {
      "text/html": [
       "<div><div></div><div></div><div><strong>Installed Packages</strong><ul><li><span>Flurl, 3.0.7</span></li><li><span>Flurl.Http, 3.2.4</span></li><li><span>IdentityModel, 6.0.0</span></li><li><span>System.Net.Http, 4.3.4</span></li><li><span>System.Net.Http.Json, 7.0.0</span></li><li><span>System.Text.Json, 7.0.1</span></li></ul></div></div>"
      ]
     },
     "metadata": {},
     "output_type": "display_data"
    },
    {
     "data": {
      "text/plain": [
       "Endpoint: https://localhost:5001\r\n",
       "Client Credentials: \r\n",
       "    Id: deviceclient \r\n",
       "    Secret: DeviceSecret"
      ]
     },
     "metadata": {},
     "output_type": "display_data"
    }
   ],
   "source": [
    "#r \"nuget: System.Net.Http\"\n",
    "#r \"nuget: System.Net.Http.Json\"\n",
    "#r \"nuget: System.Text.Json\"\n",
    "#r \"nuget: Flurl\"\n",
    "#r \"nuget: Flurl.Http\"\n",
    "#r \"nuget: IdentityModel\"\n",
    "\n",
    "using Microsoft.DotNet.Interactive.Formatting;\n",
    "using System.Net.Http;\n",
    "\n",
    "// Extension methods til brug med 0auth\n",
    "using IdentityModel.Client;\n",
    "\n",
    "// Flurl (Fluent url)\n",
    "using Flurl;\n",
    "using Flurl.Util;\n",
    "using Flurl.Http;\n",
    "\n",
    "// Konfiguration af client \n",
    "string _ClientId = \"deviceclient\"; // ClientId som clienten har\n",
    "string _ClientSecret = \"DeviceSecret\"; // Client Secret som clienten har\n",
    "string _Endpoint = \"https://localhost:5001\"; // Url Addressen til identity serveren\n",
    "\n",
    "// Api\n",
    "string _ApiEndpoint = \"https://localhost:7216\";\n",
    "\n",
    "// Global Accesstoken variabel\n",
    "string _AccessToken = string.Empty;\n",
    "\n",
    "// Http client som bliver brugt hele tiden (Best practice)\n",
    "var client = new HttpClient();\n",
    "\n",
    "$\"\"\"\n",
    "Endpoint: {_Endpoint}\n",
    "Client Credentials: \n",
    "    Id: {_ClientId} \n",
    "    Secret: {_ClientSecret}\n",
    "\"\"\""
   ]
  },
  {
   "attachments": {},
   "cell_type": "markdown",
   "metadata": {
    "dotnet_interactive": {
     "language": "csharp"
    },
    "polyglot_notebook": {
     "kernelName": "csharp"
    }
   },
   "source": [
    "# 1. Send Authorization Request\n",
    "\n",
    "Sender en Authorisation Request og modtager en lille kode som brugeren skal skrive ind for at logge ind på enheden"
   ]
  },
  {
   "cell_type": "code",
   "execution_count": null,
   "metadata": {
    "dotnet_interactive": {
     "language": "csharp"
    },
    "polyglot_notebook": {
     "kernelName": "csharp"
    },
    "vscode": {
     "languageId": "polyglot-notebook"
    }
   },
   "outputs": [],
   "source": [
    "// Send Request\n",
    "var Device_Request  = await client.RequestDeviceAuthorizationAsync(new DeviceAuthorizationRequest\n",
    "{\n",
    "    Address = $\"{_Endpoint}/connect/deviceauthorization\",\n",
    "    ClientId = _ClientId,\n",
    "    ClientSecret = _ClientSecret,\n",
    "    Scope = \"openid profile api\"\n",
    "});\n",
    "\n",
    "// Check for errors\n",
    "if(!Device_Request.IsError)\n",
    "{\n",
    "    $\"Device Code: {Device_Request.DeviceCode}\".Display();\n",
    "\n",
    "    $\"\"\"\n",
    "    Login\n",
    "    {_Endpoint}/device?userCode={Device_Request.UserCode} eller gå til {_Endpoint}/device og indtast kode\n",
    "    Kode: {Device_Request.UserCode}\n",
    "    \"\"\".Display();\n",
    "}\n",
    "else\n",
    "{\n",
    "    Device_Request.Error.Display();\n",
    "}"
   ]
  },
  {
   "attachments": {},
   "cell_type": "markdown",
   "metadata": {
    "dotnet_interactive": {
     "language": "csharp"
    },
    "polyglot_notebook": {
     "kernelName": "csharp"
    }
   },
   "source": [
    "# 2. Poll for Access token\n",
    "\n",
    "Imens brugeren logger ind vil enheden begynde at polle Authorisation serveren og vil få tomme svar indtil brugren er logget ind.\n",
    "\n",
    "> Start koden når du har kørt den øverste."
   ]
  },
  {
   "cell_type": "code",
   "execution_count": null,
   "metadata": {
    "dotnet_interactive": {
     "language": "csharp"
    },
    "polyglot_notebook": {
     "kernelName": "csharp"
    },
    "vscode": {
     "languageId": "polyglot-notebook"
    }
   },
   "outputs": [],
   "source": [
    "var Request = new DeviceTokenRequest() {\n",
    "    Address = $\"{_Endpoint}/connect/token\",\n",
    "    ClientId = _ClientId,\n",
    "    ClientSecret = _ClientSecret,\n",
    "    DeviceCode = Device_Request.DeviceCode\n",
    "};\n",
    "\n",
    "Console.Write(\"Waiting for user to consent.\");\n",
    "\n",
    "// Tom Response til brug i løkke\n",
    "TokenResponse Response = new TokenResponse() {};\n",
    "\n",
    "// Check hvis brugeren er logget ind\n",
    "do\n",
    "{\n",
    "\n",
    "    Response = await client.RequestDeviceTokenAsync(Request);\n",
    "\n",
    "    if(Response.IsError)\n",
    "    {\n",
    "        Console.Write(\".\");\n",
    "        await Task.Delay(5000);\n",
    "    }\n",
    "    else\n",
    "    {\n",
    "        Console.WriteLine(\"\\nAccess Token Recieved!!!\");\n",
    "    }\n",
    "\n",
    "\n",
    "} \n",
    "while(Response.IsError);\n",
    "\n",
    "// Gem AccessToken til senere\n",
    "_AccessToken = Response.AccessToken;\n",
    "\n",
    "$\"\"\"\n",
    "Access token: {Response.AccessToken}\n",
    "Type: {Response.TokenType}\n",
    "Expires: {DateTime.UnixEpoch.AddDays(Response.ExpiresIn).ToString()}\n",
    "\"\"\".Display();"
   ]
  },
  {
   "attachments": {},
   "cell_type": "markdown",
   "metadata": {
    "dotnet_interactive": {
     "language": "csharp"
    },
    "polyglot_notebook": {
     "kernelName": "csharp"
    }
   },
   "source": [
    "# 3. Hent Data Fra Api\n",
    "Hent Alle Todos Fra Apien med den gyldige Access Token.\n",
    "\n",
    "> Bruger Flurl."
   ]
  },
  {
   "cell_type": "code",
   "execution_count": 11,
   "metadata": {
    "dotnet_interactive": {
     "language": "csharp"
    },
    "polyglot_notebook": {
     "kernelName": "csharp"
    },
    "vscode": {
     "languageId": "polyglot-notebook"
    }
   },
   "outputs": [
    {
     "data": {
      "text/html": [
       "<table><thead><tr><th><i>index</i></th><th>Id</th><th>Title</th><th>Description</th><th>CreatedDate</th><th>UserId</th></tr></thead><tbody><tr><td>0</td><td><div class=\"dni-plaintext\"><pre>1</pre></div></td><td>Test1</td><td>Test1</td><td><span>2023-02-03 12:43:29Z</span></td><td><div class=\"dni-plaintext\"><pre>1</pre></div></td></tr><tr><td>1</td><td><div class=\"dni-plaintext\"><pre>2</pre></div></td><td>Test2</td><td>Test2</td><td><span>2023-02-03 12:43:29Z</span></td><td><div class=\"dni-plaintext\"><pre>2</pre></div></td></tr><tr><td>2</td><td><div class=\"dni-plaintext\"><pre>3</pre></div></td><td>Test3</td><td>Tes3t</td><td><span>2023-02-03 12:43:29Z</span></td><td><div class=\"dni-plaintext\"><pre>2</pre></div></td></tr><tr><td>3</td><td><div class=\"dni-plaintext\"><pre>4</pre></div></td><td>Test4</td><td>Test4</td><td><span>2023-02-03 12:43:29Z</span></td><td><div class=\"dni-plaintext\"><pre>1</pre></div></td></tr></tbody></table><style>\r\n",
       ".dni-code-hint {\r\n",
       "    font-style: italic;\r\n",
       "    overflow: hidden;\r\n",
       "    white-space: nowrap;\r\n",
       "}\r\n",
       ".dni-treeview {\r\n",
       "    white-space: nowrap;\r\n",
       "}\r\n",
       ".dni-treeview td {\r\n",
       "    vertical-align: top;\r\n",
       "    text-align: start;\r\n",
       "}\r\n",
       "details.dni-treeview {\r\n",
       "    padding-left: 1em;\r\n",
       "}\r\n",
       "table td {\r\n",
       "    text-align: start;\r\n",
       "}\r\n",
       "table tr { \r\n",
       "    vertical-align: top; \r\n",
       "    margin: 0em 0px;\r\n",
       "}\r\n",
       "table tr td pre \r\n",
       "{ \r\n",
       "    vertical-align: top !important; \r\n",
       "    margin: 0em 0px !important;\r\n",
       "} \r\n",
       "table th {\r\n",
       "    text-align: start;\r\n",
       "}\r\n",
       "</style>"
      ]
     },
     "metadata": {},
     "output_type": "display_data"
    }
   ],
   "source": [
    "// Todo klasse til opbevaring af data\n",
    "public class Todo {\n",
    "    public int Id { get; set; }\n",
    "    public string Title { get; set; }\n",
    "    public string Description { get; set; }\n",
    "    public DateTime CreatedDate { get; set;}\n",
    "    public int UserId { get; set; }\n",
    "}\n",
    "\n",
    "// Bruger den globale client til At lave en FlurlCLient\n",
    "FlurlClient flurlClient = new(client);\n",
    "\n",
    "// Starter en query til Api\n",
    "var query = flurlClient.Request(_ApiEndpoint);\n",
    "\n",
    "// tilføjer berarer token til query, hvis der er en.\n",
    "if(_ClientId != string.Empty)\n",
    "{\n",
    "    query = query.WithOAuthBearerToken(_AccessToken);\n",
    "}\n",
    "\n",
    "// Retter Uri til At hente alle Todos. ({URL}/api/todos/all)\n",
    "query = query.AppendPathSegments(\"api\",\"todos\",\"all\");\n",
    "\n",
    "var result = await query.GetJsonAsync<List<Todo>>();\n",
    "\n",
    "result.Display();"
   ]
  }
 ],
 "metadata": {
  "kernelspec": {
   "display_name": ".NET (C#)",
   "language": "C#",
   "name": ".net-csharp"
  },
  "polyglot_notebook": {
   "kernelInfo": {
    "defaultKernelName": "csharp",
    "items": [
     {
      "aliases": [],
      "name": "csharp"
     }
    ]
   }
  }
 },
 "nbformat": 4,
 "nbformat_minor": 2
}
