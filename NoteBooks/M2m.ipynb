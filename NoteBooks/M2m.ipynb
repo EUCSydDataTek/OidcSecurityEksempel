{
 "cells": [
  {
   "attachments": {},
   "cell_type": "markdown",
   "metadata": {
    "dotnet_interactive": {
     "language": "csharp"
    },
    "polyglot_notebook": {
     "kernelName": "csharp"
    }
   },
   "source": [
    "# Setup\n",
    "\n",
    "Installation Af Nuget Pakker og initialisering af variabler"
   ]
  },
  {
   "cell_type": "code",
   "execution_count": 1,
   "metadata": {
    "dotnet_interactive": {
     "language": "csharp"
    },
    "polyglot_notebook": {
     "kernelName": "csharp"
    },
    "vscode": {
     "languageId": "polyglot-notebook"
    }
   },
   "outputs": [
    {
     "data": {
      "text/html": [
       "<div><div></div><div></div><div><strong>Installed Packages</strong><ul><li><span>Flurl, 3.0.7</span></li><li><span>Flurl.Http, 3.2.4</span></li><li><span>IdentityModel, 6.0.0</span></li><li><span>System.Net.Http, 4.3.4</span></li><li><span>System.Net.Http.Json, 7.0.0</span></li><li><span>System.Text.Json, 7.0.1</span></li></ul></div></div>"
      ]
     },
     "metadata": {},
     "output_type": "display_data"
    },
    {
     "data": {
      "text/plain": [
       "Endpoint: https://localhost:5001\r\n",
       "Client Credentials: \r\n",
       "    Id: m2mclient \r\n",
       "    Secret: m2mSecret"
      ]
     },
     "metadata": {},
     "output_type": "display_data"
    }
   ],
   "source": [
    "#r \"nuget: System.Net.Http\"\n",
    "#r \"nuget: System.Net.Http.Json\"\n",
    "#r \"nuget: System.Text.Json\"\n",
    "#r \"nuget: IdentityModel\"\n",
    "#r \"nuget: Flurl\"\n",
    "#r \"nuget: Flurl.Http\"\n",
    "using System.Net.Http;\n",
    "\n",
    "string ClientId = \"m2mclient\";\n",
    "string ClientSecret = \"m2mSecret\";\n",
    "string Endpoint = \"https://localhost:5001\";\n",
    "\n",
    "string _ApiEndpoint = \"https://localhost:7216\";\n",
    "string _TOKEN = \"\";\n",
    "\n",
    "\n",
    "HttpClient Client = new HttpClient();\n",
    "\n",
    "$\"\"\"\n",
    "Endpoint: {Endpoint}\n",
    "Client Credentials: \n",
    "    Id: {ClientId} \n",
    "    Secret: {ClientSecret}\n",
    "\"\"\"\n"
   ]
  },
  {
   "attachments": {},
   "cell_type": "markdown",
   "metadata": {
    "dotnet_interactive": {
     "language": "csharp"
    },
    "polyglot_notebook": {
     "kernelName": "csharp"
    }
   },
   "source": [
    "## Hent Access Token Fra Identity Provider\n",
    "\n",
    "Hent Access token fra identity provider"
   ]
  },
  {
   "cell_type": "code",
   "execution_count": null,
   "metadata": {
    "dotnet_interactive": {
     "language": "csharp"
    },
    "polyglot_notebook": {
     "kernelName": "csharp"
    },
    "vscode": {
     "languageId": "polyglot-notebook"
    }
   },
   "outputs": [],
   "source": [
    "using System.Text.Json;\n",
    "using IdentityModel.Client;\n",
    "\n",
    "ClientCredentialsTokenRequest TokenRequest = new(){\n",
    "    ClientId = ClientId,\n",
    "    ClientSecret = ClientSecret,\n",
    "    Address = $\"{Endpoint}/connect/Token\",\n",
    "    Scope = \"api\"\n",
    "};\n",
    "\n",
    "var TokenResponse = await Client.RequestClientCredentialsTokenAsync(TokenRequest);\n",
    "\n",
    "if(!TokenResponse.IsError)\n",
    "{\n",
    "    \"Access Token:\".Display();\n",
    "    TokenResponse.AccessToken.Display();\n",
    "    _TOKEN = TokenResponse.AccessToken;\n",
    "}\n",
    "else\n",
    "{\n",
    "    $\"Error: {TokenResponse.Error}\".Display();\n",
    "}"
   ]
  },
  {
   "attachments": {},
   "cell_type": "markdown",
   "metadata": {
    "dotnet_interactive": {
     "language": "csharp"
    },
    "polyglot_notebook": {
     "kernelName": "csharp"
    }
   },
   "source": [
    "## Hent Data fra Api\n",
    "\n",
    "Hent Fra api med AccessToken"
   ]
  },
  {
   "cell_type": "code",
   "execution_count": 2,
   "metadata": {
    "dotnet_interactive": {
     "language": "csharp"
    },
    "polyglot_notebook": {
     "kernelName": "csharp"
    },
    "vscode": {
     "languageId": "polyglot-notebook"
    }
   },
   "outputs": [
    {
     "ename": "Error",
     "evalue": "(14,31): error CS0103: The name 'Client' does not exist in the current context",
     "output_type": "error",
     "traceback": [
      "(14,31): error CS0103: The name 'Client' does not exist in the current context"
     ]
    }
   ],
   "source": [
    "using Flurl;\n",
    "using Flurl.Util;\n",
    "using Flurl.Http;\n",
    "\n",
    "// Todo klasse til opbevaring af data\n",
    "public class Todo {\n",
    "    public int Id { get; set; }\n",
    "    public string Title { get; set; }\n",
    "    public string Description { get; set; }\n",
    "    public DateTime CreatedDate { get; set;}\n",
    "    public int UserId { get; set; }\n",
    "}\n",
    "\n",
    "FlurlClient FlurlClient = new(Client);\n",
    "\n",
    "var query = FlurlClient.Request(_ApiEndpoint);\n",
    "\n",
    "if(!string.IsNullOrEmpty(_TOKEN))\n",
    "{\n",
    "    query = query.WithOAuthBearerToken(_TOKEN);\n",
    "}\n",
    "\n",
    "query = query.AppendPathSegments(\"api\",\"todos\",\"all\");\n",
    "\n",
    "var result = await query.GetJsonAsync<List<Todo>>();\n",
    "\n",
    "result.Display();\n"
   ]
  }
 ],
 "metadata": {
  "kernelspec": {
   "display_name": ".NET (C#)",
   "language": "C#",
   "name": ".net-csharp"
  },
  "polyglot_notebook": {
   "kernelInfo": {
    "defaultKernelName": "csharp",
    "items": [
     {
      "aliases": [],
      "name": "csharp"
     }
    ]
   }
  }
 },
 "nbformat": 4,
 "nbformat_minor": 2
}
