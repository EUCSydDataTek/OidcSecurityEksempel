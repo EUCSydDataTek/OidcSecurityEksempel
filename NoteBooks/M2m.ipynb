{
 "cells": [
  {
   "attachments": {},
   "cell_type": "markdown",
   "metadata": {
    "dotnet_interactive": {
     "language": "csharp"
    },
    "polyglot_notebook": {
     "kernelName": "csharp"
    }
   },
   "source": [
    "# Setup"
   ]
  },
  {
   "cell_type": "code",
   "execution_count": null,
   "metadata": {
    "dotnet_interactive": {
     "language": "csharp"
    },
    "polyglot_notebook": {
     "kernelName": "csharp"
    },
    "vscode": {
     "languageId": "polyglot-notebook"
    }
   },
   "outputs": [],
   "source": [
    "#r \"nuget: System.Net.Http\"\n",
    "#r \"nuget: System.Net.Http.Json\"\n",
    "#r \"nuget: System.Text.Json\"\n",
    "#r \"nuget: IdentityModel\"\n",
    "\n",
    "string ClientId = \"m2mclient\";\n",
    "string ClientSecret = \"m2mSecret\";\n",
    "string Endpoint = \"https://localhost:5001\";\n",
    "\n",
    "$\"\"\"\n",
    "Endpoint: {Endpoint}\n",
    "Client Credentials: \n",
    "    Id: {ClientId} \n",
    "    Secret: {ClientSecret}\n",
    "\"\"\"\n"
   ]
  },
  {
   "attachments": {},
   "cell_type": "markdown",
   "metadata": {
    "dotnet_interactive": {
     "language": "csharp"
    },
    "polyglot_notebook": {
     "kernelName": "csharp"
    }
   },
   "source": [
    "## Hent Access Token Fra Identity Provider\n",
    "\n",
    "Hent Access token fra identity provider"
   ]
  },
  {
   "cell_type": "code",
   "execution_count": null,
   "metadata": {
    "dotnet_interactive": {
     "language": "csharp"
    },
    "polyglot_notebook": {
     "kernelName": "csharp"
    },
    "vscode": {
     "languageId": "polyglot-notebook"
    }
   },
   "outputs": [],
   "source": [
    "using System.Net.Http;\n",
    "using System.Text.Json;\n",
    "using IdentityModel.Client;\n",
    "\n",
    "HttpClient Client = new HttpClient();\n",
    "\n",
    "ClientCredentialsTokenRequest TokenRequest = new(){\n",
    "    ClientId = ClientId,\n",
    "    ClientSecret = ClientSecret,\n",
    "    Address = $\"{Endpoint}/connect/Token\",\n",
    "    Scope = \"api\"\n",
    "};\n",
    "\n",
    "var TokenResponse = await Client.RequestClientCredentialsTokenAsync(TokenRequest);\n",
    "\n",
    "if(!TokenResponse.IsError)\n",
    "{\n",
    "    \"Access Token:\".Display();\n",
    "    TokenResponse.AccessToken.Display();\n",
    "}\n",
    "else\n",
    "{\n",
    "    $\"Error: {TokenResponse.Error}\".Display();\n",
    "}"
   ]
  }
 ],
 "metadata": {
  "kernelspec": {
   "display_name": ".NET (C#)",
   "language": "C#",
   "name": ".net-csharp"
  },
  "polyglot_notebook": {
   "kernelInfo": {
    "defaultKernelName": "csharp",
    "items": [
     {
      "aliases": [
       "c#",
       "C#"
      ],
      "languageName": "C#",
      "name": "csharp"
     },
     {
      "aliases": [],
      "languageName": "Mermaid",
      "name": "mermaid"
     },
     {
      "aliases": [],
      "name": ".NET"
     },
     {
      "aliases": [
       "f#",
       "F#"
      ],
      "languageName": "F#",
      "name": "fsharp"
     },
     {
      "aliases": [],
      "languageName": "HTML",
      "name": "html"
     },
     {
      "aliases": [
       "js"
      ],
      "languageName": "JavaScript",
      "name": "javascript"
     },
     {
      "aliases": [],
      "languageName": "KQL",
      "name": "kql"
     },
     {
      "aliases": [
       "powershell"
      ],
      "languageName": "PowerShell",
      "name": "pwsh"
     },
     {
      "aliases": [],
      "languageName": "SQL",
      "name": "sql"
     },
     {
      "aliases": [],
      "name": "value"
     },
     {
      "aliases": [
       "frontend"
      ],
      "name": "vscode"
     },
     {
      "aliases": [],
      "name": "webview"
     }
    ]
   }
  }
 },
 "nbformat": 4,
 "nbformat_minor": 2
}
